{
 "cells": [
  {
   "cell_type": "markdown",
   "metadata": {},
   "source": [
    "### Please use the following variables:\n"
   ]
  },
  {
   "cell_type": "code",
   "execution_count": 52,
   "metadata": {},
   "outputs": [],
   "source": [
    "import numpy as np\n",
    "\n",
    "x = np.array([3, 6])\n",
    "y = np.array([5, 2])\n",
    "data = np.array([[2, 3], [3, 4], [5, 7], [2, 7], [3, 2], [1, 2], [9, 3], [4, 1]])\n",
    "animals = [\"dog\", \"cat\", \"bird\", \"fish\", \"fish\", \"dog\", \"cat\", \"dog\"]"
   ]
  },
  {
   "cell_type": "markdown",
   "metadata": {},
   "source": [
    "### 1. Compute the euclidean distance between two points: `x` and `y`"
   ]
  },
  {
   "cell_type": "code",
   "execution_count": 6,
   "metadata": {},
   "outputs": [
    {
     "name": "stdout",
     "output_type": "stream",
     "text": [
      "Distance 4.47213595499958\n"
     ]
    }
   ],
   "source": [
    "# Approach 1 - We know there are only two values:\n",
    "dist = np.sqrt((x[0] - y[0]) ** 2 + (x[1] - y[1]) ** 2)\n",
    "print(f\"Distance {dist}\")\n"
   ]
  },
  {
   "cell_type": "code",
   "execution_count": 7,
   "metadata": {},
   "outputs": [
    {
     "name": "stdout",
     "output_type": "stream",
     "text": [
      "Distance 4.47213595499958\n"
     ]
    }
   ],
   "source": [
    "# Approach 2 - For any number of dimensions (The long way...)\n",
    "sum_of_squares = 0\n",
    "\n",
    "for i in range(x.shape[0]):\n",
    "    sum_of_squares += (x[i] - y[i]) ** 2\n",
    "\n",
    "dist = np.sqrt(sum_of_squares)\n",
    "print(f\"Distance {dist}\")"
   ]
  },
  {
   "cell_type": "code",
   "execution_count": 11,
   "metadata": {},
   "outputs": [
    {
     "name": "stdout",
     "output_type": "stream",
     "text": [
      "Distance 4.47213595499958\n"
     ]
    }
   ],
   "source": [
    "# Approach 3 - For any number of dimensions (The cool numpy way)\n",
    "dist = np.sqrt(np.sum((x - y) ** 2))\n",
    "print(f\"Distance {dist}\")"
   ]
  },
  {
   "cell_type": "markdown",
   "metadata": {},
   "source": [
    "### 2. Turn your code into a function that can compute the distance between any two points.\n",
    "\n",
    "Then verify that your function works by calling it with `x` and `y`"
   ]
  },
  {
   "cell_type": "code",
   "execution_count": 13,
   "metadata": {},
   "outputs": [],
   "source": [
    "def compute_distance(a, b):\n",
    "    \"\"\"\n",
    "    Returns the distance between two numpy arrays.\n",
    "    \"\"\"\n",
    "    return np.sqrt(np.sum((a - b) ** 2))"
   ]
  },
  {
   "cell_type": "code",
   "execution_count": 14,
   "metadata": {},
   "outputs": [
    {
     "name": "stdout",
     "output_type": "stream",
     "text": [
      "Distance 4.47213595499958\n"
     ]
    }
   ],
   "source": [
    "dist = compute_distance(x, y)\n",
    "print(f\"Distance {dist}\")"
   ]
  },
  {
   "cell_type": "markdown",
   "metadata": {},
   "source": [
    "### 3. Compute the distance between `x` and every row in the `data` array.\n",
    "\n",
    "Save each of these distances into a new list or numpy array."
   ]
  },
  {
   "cell_type": "code",
   "execution_count": 26,
   "metadata": {},
   "outputs": [
    {
     "name": "stdout",
     "output_type": "stream",
     "text": [
      "Distances:\n",
      "[3.1622776601683795, 2.0, 2.23606797749979, 1.4142135623730951, 4.0, 4.47213595499958, 6.708203932499369, 5.0990195135927845]\n"
     ]
    }
   ],
   "source": [
    "distances = []\n",
    "\n",
    "for d in data:\n",
    "    dist = compute_distance(x, d)\n",
    "    distances.append(dist)\n",
    "    \n",
    "print(\"Distances:\")\n",
    "print(distances)"
   ]
  },
  {
   "cell_type": "markdown",
   "metadata": {},
   "source": [
    "### 4. Find the smallest 2 values in the list of distances you created in the last step."
   ]
  },
  {
   "cell_type": "code",
   "execution_count": 31,
   "metadata": {},
   "outputs": [
    {
     "name": "stdout",
     "output_type": "stream",
     "text": [
      "All distances, sorted:\n",
      "[1.41421356 2.         2.23606798 3.16227766 4.         4.47213595\n",
      " 5.09901951 6.70820393]\n",
      "\n",
      "Smallest 2:\n",
      "[1.41421356 2.        ]\n"
     ]
    }
   ],
   "source": [
    "# Using np.sort\n",
    "\n",
    "sorted_distances = np.sort(distances)\n",
    "print(\"All distances, sorted:\")\n",
    "print(sorted_distances)\n",
    "\n",
    "print(\"\\nSmallest 2:\")\n",
    "print(sorted_distances[:2])"
   ]
  },
  {
   "cell_type": "markdown",
   "metadata": {},
   "source": [
    "### 5. Find the _indexes_ of the smallest 2 values in the list of distances\n",
    "\n",
    "(Hint: This is going to be super useful if you want to know not just the smallest distance but also which item corresponded to the smallest distance, so you could get its target value.)"
   ]
  },
  {
   "cell_type": "code",
   "execution_count": 34,
   "metadata": {},
   "outputs": [
    {
     "name": "stdout",
     "output_type": "stream",
     "text": [
      "All indexes, in order from smallest value to largest:\n",
      "[3 1 2 0 4 5 7 6]\n",
      "\n",
      "Smallest 2:\n",
      "[3 1]\n"
     ]
    }
   ],
   "source": [
    "# Using np.argsort -- It's super cool. Search the internet to learn more, but\n",
    "# essentially, it will return the indexes of the values in the order they are sorted.\n",
    "# So the first thing in the list is the index of the smallest value.\n",
    "\n",
    "sorted_indexes = np.argsort(distances)\n",
    "print(\"All indexes, in order from smallest value to largest:\")\n",
    "print(sorted_indexes)\n",
    "\n",
    "print(\"\\nSmallest 2:\")\n",
    "print(sorted_indexes[:2])\n"
   ]
  },
  {
   "cell_type": "code",
   "execution_count": 36,
   "metadata": {},
   "outputs": [
    {
     "name": "stdout",
     "output_type": "stream",
     "text": [
      "1.4142135623730951\n",
      "2.0\n",
      "2.23606797749979\n",
      "3.1622776601683795\n",
      "4.0\n",
      "4.47213595499958\n",
      "5.0990195135927845\n",
      "6.708203932499369\n"
     ]
    }
   ],
   "source": [
    "# Sanity check:\n",
    "# Let's print the distances in order, using our sorted_indexes list (and make sure\n",
    "# they appear in order!):\n",
    "\n",
    "for i in sorted_indexes:\n",
    "    print(distances[i])"
   ]
  },
  {
   "cell_type": "markdown",
   "metadata": {},
   "source": [
    "### 6. Find the animal that occurs most frequently in the `animals` list:"
   ]
  },
  {
   "cell_type": "code",
   "execution_count": 54,
   "metadata": {},
   "outputs": [
    {
     "data": {
      "text/plain": [
       "'dog'"
      ]
     },
     "execution_count": 54,
     "metadata": {},
     "output_type": "execute_result"
    }
   ],
   "source": [
    "# There are lots of ways to do this... one way is to use the \"mode\" function\n",
    "# from the statistics package. Keep in mind that this will raise an error if there\n",
    "# are multiple items that tie for the most\n",
    "\n",
    "from statistics import mode\n",
    "mode(animals)"
   ]
  },
  {
   "cell_type": "code",
   "execution_count": 55,
   "metadata": {},
   "outputs": [
    {
     "name": "stdout",
     "output_type": "stream",
     "text": [
      "[('dog', 3), ('cat', 2), ('fish', 2), ('bird', 1)]\n",
      "Most common:\n",
      "[('dog', 3)]\n"
     ]
    }
   ],
   "source": [
    "# Another option is to use the Counter class:\n",
    "# (See https://stackoverflow.com/a/10797913 )\n",
    "\n",
    "from collections import Counter\n",
    "counter = Counter(animals)\n",
    "print(counter.most_common())   # Returns all unique items and their counts\n",
    "\n",
    "print(\"Most common:\")\n",
    "print(counter.most_common(1))  # Returns the highest occurring item\n"
   ]
  },
  {
   "cell_type": "code",
   "execution_count": null,
   "metadata": {},
   "outputs": [],
   "source": []
  }
 ],
 "metadata": {
  "kernelspec": {
   "display_name": "Python 3",
   "language": "python",
   "name": "python3"
  },
  "language_info": {
   "codemirror_mode": {
    "name": "ipython",
    "version": 3
   },
   "file_extension": ".py",
   "mimetype": "text/x-python",
   "name": "python",
   "nbconvert_exporter": "python",
   "pygments_lexer": "ipython3",
   "version": "3.7.1"
  }
 },
 "nbformat": 4,
 "nbformat_minor": 2
}
