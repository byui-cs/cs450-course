{
 "cells": [
  {
   "cell_type": "markdown",
   "metadata": {},
   "source": [
    "## Part 1 - Classes"
   ]
  },
  {
   "cell_type": "markdown",
   "metadata": {},
   "source": [
    "1. Create a class to represent a Movie. It should have a title, a year, and a runtime (in minutes)"
   ]
  },
  {
   "cell_type": "code",
   "execution_count": 1,
   "metadata": {},
   "outputs": [],
   "source": [
    "class Movie:\n",
    "    \"\"\"\n",
    "    This class keeps track of the elements of a movie\n",
    "    \"\"\"\n",
    "    def __init__(self, title=\"\", year=0, runtime=0):\n",
    "        self.title = title\n",
    "        self.year = year\n",
    "\n",
    "        if runtime < 0:\n",
    "            runtime = 0\n",
    "\n",
    "        self.runtime = runtime\n",
    "\n",
    "    def __repr__(self):\n",
    "        return \"{} ({}) - {} mins\".format(self.title, self.year, self.runtime)\n",
    "\n",
    "    def get_runtime_hours_minutes(self):\n",
    "        hours = self.runtime // 60\n",
    "        minutes = self.runtime % 60\n",
    "\n",
    "        return hours, minutes\n"
   ]
  },
  {
   "cell_type": "markdown",
   "metadata": {},
   "source": [
    "2. Create a movie object and fill it in with appropriate data"
   ]
  },
  {
   "cell_type": "code",
   "execution_count": 2,
   "metadata": {},
   "outputs": [],
   "source": [
    "m = Movie()\n",
    "\n",
    "m.title = \"Jurassic World\"\n",
    "m.year = 2015\n",
    "m.runtime = 124"
   ]
  },
  {
   "cell_type": "markdown",
   "metadata": {},
   "source": [
    "3. Override the `__repr__` method for your class to return a string version of the object in the format: \"title (year) - runtime mins\", such as: Jurassic World (2015) - 124 mins. Then, print out your movie using a statment like print(m)"
   ]
  },
  {
   "cell_type": "code",
   "execution_count": 3,
   "metadata": {},
   "outputs": [
    {
     "name": "stdout",
     "output_type": "stream",
     "text": [
      "Jurassic World (2015) - 124 mins\n"
     ]
    }
   ],
   "source": [
    "print(m)"
   ]
  },
  {
   "cell_type": "markdown",
   "metadata": {},
   "source": [
    "4. Add a method to your class to return the runtime in hours and minutes (it should calculate and return both of these... yes functions can return multiple things). Verify that this method works."
   ]
  },
  {
   "cell_type": "code",
   "execution_count": 4,
   "metadata": {},
   "outputs": [
    {
     "name": "stdout",
     "output_type": "stream",
     "text": [
      "hours: 2, minutes: 4\n"
     ]
    }
   ],
   "source": [
    "hours, minutes = m.get_runtime_hours_minutes()\n",
    "print(\"hours: {}, minutes: {}\".format(hours, minutes))\n"
   ]
  },
  {
   "cell_type": "markdown",
   "metadata": {},
   "source": [
    "5. Make it so that your init function (aka constructor) can accept a title, year, and runtime if they are passed when the object is created, and set the values accordingly (but it should also allow creation of a movie with out those, using default values like \"\", 0, 0)."
   ]
  },
  {
   "cell_type": "code",
   "execution_count": 5,
   "metadata": {},
   "outputs": [
    {
     "name": "stdout",
     "output_type": "stream",
     "text": [
      "Beauty and the Beast (1991) - 84 mins\n"
     ]
    }
   ],
   "source": [
    "m2 = Movie(\"Beauty and the Beast\", 1991, 84)\n",
    "print(m2)\n"
   ]
  },
  {
   "cell_type": "markdown",
   "metadata": {},
   "source": [
    "6. Add logic to your init function so that if the supplied runtime is less than 0, the runtime is set to 0 instead of the value supplied."
   ]
  },
  {
   "cell_type": "code",
   "execution_count": 6,
   "metadata": {},
   "outputs": [
    {
     "name": "stdout",
     "output_type": "stream",
     "text": [
      "Test (2000) - 0 mins\n"
     ]
    }
   ],
   "source": [
    "m3 = Movie(\"Test\", 2000, -182)\n",
    "print(m3)\n"
   ]
  },
  {
   "cell_type": "markdown",
   "metadata": {},
   "source": [
    "## Part 2 - Lists, List Comprehensions, Dictionaries"
   ]
  },
  {
   "cell_type": "markdown",
   "metadata": {},
   "source": [
    "1. Create a function called create_movie_list() that returns a list of movies. It should create 4-5 movies, add them to a list, then return the list.\n",
    "\n"
   ]
  },
  {
   "cell_type": "code",
   "execution_count": 7,
   "metadata": {},
   "outputs": [],
   "source": [
    "def create_movie_list():\n",
    "    movies = []\n",
    "    movies.append(Movie(\"Jurassic World\", 2015, 124))\n",
    "    movies.append(Movie(\"Beauty and the Beast\", 1991, 84))\n",
    "    movies.append(Movie(\"Titanic\", 1997, 195))\n",
    "    movies.append(Movie(\"test4\", 2001, 400))\n",
    "    movies.append(Movie(\"test5\", 2018, 50))\n",
    "\n",
    "    return movies"
   ]
  },
  {
   "cell_type": "markdown",
   "metadata": {},
   "source": [
    "2. Call the create_movie_list() function, then iterates through each item in the list and displays it.\n"
   ]
  },
  {
   "cell_type": "code",
   "execution_count": 8,
   "metadata": {},
   "outputs": [
    {
     "name": "stdout",
     "output_type": "stream",
     "text": [
      "Displaying Movies:\n",
      "\n",
      "Jurassic World (2015) - 124 mins\n",
      "Beauty and the Beast (1991) - 84 mins\n",
      "Titanic (1997) - 195 mins\n",
      "test4 (2001) - 400 mins\n",
      "test5 (2018) - 50 mins\n"
     ]
    }
   ],
   "source": [
    "movies = create_movie_list()\n",
    "\n",
    "print(\"Displaying Movies:\\n\")\n",
    "for movie in movies:\n",
    "    print(movie)"
   ]
  },
  {
   "cell_type": "markdown",
   "metadata": {},
   "source": [
    "3. Use a list comprehension to create a new list based on your original list, for all movies that have a runtime greater than 150 minutes. Loop through this list and print them out to ensure that it worked correctly.\n"
   ]
  },
  {
   "cell_type": "code",
   "execution_count": 9,
   "metadata": {},
   "outputs": [
    {
     "name": "stdout",
     "output_type": "stream",
     "text": [
      "\n",
      "Long Movies:\n",
      "Titanic (1997) - 195 mins\n",
      "test4 (2001) - 400 mins\n"
     ]
    }
   ],
   "source": [
    "long_movies = [m for m in movies if m.runtime > 150]\n",
    "\n",
    "print(\"\\nLong Movies:\")\n",
    "for movie in long_movies:\n",
    "    print(movie)"
   ]
  },
  {
   "cell_type": "markdown",
   "metadata": {},
   "source": [
    "4. Create a dictionary that maps movie titles to an average number of stars from the users (e.g., 4.3 stars). Add each movie title in your list to your dictionary as the key, then use a library to get a random number, and assign each movie a number of stars (0 <= stars <= 5) (including decimals).\n",
    "\n"
   ]
  },
  {
   "cell_type": "code",
   "execution_count": 10,
   "metadata": {},
   "outputs": [],
   "source": [
    "import random\n",
    "\n",
    "stars_map = {m.title : random.uniform(0, 5) for m in movies}\n"
   ]
  },
  {
   "cell_type": "markdown",
   "metadata": {},
   "source": [
    "5. Loop through the dictionary and display the title of each movie with the number of stars it has received, showing the number of stars to 2 decimals of precision."
   ]
  },
  {
   "cell_type": "code",
   "execution_count": 11,
   "metadata": {},
   "outputs": [
    {
     "name": "stdout",
     "output_type": "stream",
     "text": [
      "\n",
      "Number of Stars:\n",
      "Jurassic World - 3.82 Stars\n",
      "Beauty and the Beast - 0.84 Stars\n",
      "Titanic - 2.93 Stars\n",
      "test4 - 0.30 Stars\n",
      "test5 - 2.44 Stars\n"
     ]
    }
   ],
   "source": [
    "print (\"\\nNumber of Stars:\")\n",
    "for title in stars_map:\n",
    "    print(\"{} - {:.2f} Stars\".format(title, stars_map[title]))\n"
   ]
  },
  {
   "cell_type": "markdown",
   "metadata": {},
   "source": [
    "## Part 3 - NumPy"
   ]
  },
  {
   "cell_type": "markdown",
   "metadata": {},
   "source": [
    "1. Assume now that we had a dataset that had three columns (all numeric): id, views, stars. Create a function that creates and returns a 2D numpy array with or random values for 10 movies and these 3 columns.\n",
    "\n",
    "You can use the following function for this:"
   ]
  },
  {
   "cell_type": "code",
   "execution_count": 12,
   "metadata": {},
   "outputs": [],
   "source": [
    "import numpy as np\n",
    "\n",
    "def get_movie_data():\n",
    "    \"\"\"\n",
    "    Generate a numpy array of movie data\n",
    "    :return:\n",
    "    \"\"\"\n",
    "    num_movies = 10\n",
    "    array = np.zeros([num_movies, 3], dtype=np.float)\n",
    "\n",
    "    for i in range(num_movies):\n",
    "        # There is nothing magic about 100 here, just didn't want ids\n",
    "        # to match the row numbers\n",
    "        movie_id = i + 100\n",
    "\n",
    "        # Lets have the views range from 100-10000\n",
    "        views = random.randint(100, 10000)\n",
    "        stars = random.uniform(0, 5)\n",
    "\n",
    "        array[i][0] = movie_id\n",
    "        array[i][1] = views\n",
    "        array[i][2] = stars\n",
    "\n",
    "    return array\n"
   ]
  },
  {
   "cell_type": "markdown",
   "metadata": {},
   "source": [
    "2. Call this function and get the 2D numpy array. Then, find a way to display the number of rows in this array. On another line, display the number of columns."
   ]
  },
  {
   "cell_type": "code",
   "execution_count": 13,
   "metadata": {},
   "outputs": [
    {
     "name": "stdout",
     "output_type": "stream",
     "text": [
      "[[1.00000000e+02 7.09500000e+03 4.55619138e+00]\n",
      " [1.01000000e+02 5.41000000e+03 3.42147341e+00]\n",
      " [1.02000000e+02 5.43100000e+03 4.82719334e+00]\n",
      " [1.03000000e+02 9.28000000e+03 3.59221777e+00]\n",
      " [1.04000000e+02 3.92400000e+03 2.42734315e+00]\n",
      " [1.05000000e+02 4.95600000e+03 4.36430212e+00]\n",
      " [1.06000000e+02 5.50700000e+03 5.47862315e-02]\n",
      " [1.07000000e+02 4.88900000e+03 5.78793100e-01]\n",
      " [1.08000000e+02 3.34400000e+03 4.67717482e+00]\n",
      " [1.09000000e+02 8.78200000e+03 4.02946665e-01]]\n"
     ]
    }
   ],
   "source": [
    "data = get_movie_data()\n",
    "\n",
    "print(data)\n"
   ]
  },
  {
   "cell_type": "code",
   "execution_count": 14,
   "metadata": {},
   "outputs": [
    {
     "name": "stdout",
     "output_type": "stream",
     "text": [
      "There are 10 rows and 3 cols\n"
     ]
    }
   ],
   "source": [
    "rows = data.shape[0]\n",
    "cols = data.shape[1]\n",
    "\n",
    "print(\"There are {} rows and {} cols\".format(rows, cols))\n",
    "\n"
   ]
  },
  {
   "cell_type": "markdown",
   "metadata": {},
   "source": [
    "3. Use slicing to grab the first two rows, and display the resulting dataset."
   ]
  },
  {
   "cell_type": "code",
   "execution_count": 15,
   "metadata": {},
   "outputs": [
    {
     "name": "stdout",
     "output_type": "stream",
     "text": [
      "[[1.00000000e+02 7.09500000e+03 4.55619138e+00]\n",
      " [1.01000000e+02 5.41000000e+03 3.42147341e+00]]\n"
     ]
    }
   ],
   "source": [
    "print(data[0:2])\n"
   ]
  },
  {
   "cell_type": "markdown",
   "metadata": {},
   "source": [
    "4. Use slicing to grab the last two columns, and display the resulting dataset."
   ]
  },
  {
   "cell_type": "code",
   "execution_count": 16,
   "metadata": {},
   "outputs": [
    {
     "name": "stdout",
     "output_type": "stream",
     "text": [
      "[[7.09500000e+03 4.55619138e+00]\n",
      " [5.41000000e+03 3.42147341e+00]\n",
      " [5.43100000e+03 4.82719334e+00]\n",
      " [9.28000000e+03 3.59221777e+00]\n",
      " [3.92400000e+03 2.42734315e+00]\n",
      " [4.95600000e+03 4.36430212e+00]\n",
      " [5.50700000e+03 5.47862315e-02]\n",
      " [4.88900000e+03 5.78793100e-01]\n",
      " [3.34400000e+03 4.67717482e+00]\n",
      " [8.78200000e+03 4.02946665e-01]]\n"
     ]
    }
   ],
   "source": [
    "print(data[:,-2:])\n"
   ]
  },
  {
   "cell_type": "markdown",
   "metadata": {},
   "source": [
    "5. From your 2D array, get a 1D array of all the values in the second column (views). Make sure you get this to a 1D array, not a 2D array with one column. When you display it, it should look like: `[18, 65, 38, 12]` not like: `[[18], [65], [38], [12]]`"
   ]
  },
  {
   "cell_type": "code",
   "execution_count": 17,
   "metadata": {},
   "outputs": [
    {
     "name": "stdout",
     "output_type": "stream",
     "text": [
      "[7095. 5410. 5431. 9280. 3924. 4956. 5507. 4889. 3344. 8782.]\n"
     ]
    }
   ],
   "source": [
    "print(data[:,1])"
   ]
  },
  {
   "cell_type": "code",
   "execution_count": null,
   "metadata": {},
   "outputs": [],
   "source": []
  }
 ],
 "metadata": {
  "kernelspec": {
   "display_name": "Python 3",
   "language": "python",
   "name": "python3"
  },
  "language_info": {
   "codemirror_mode": {
    "name": "ipython",
    "version": 3
   },
   "file_extension": ".py",
   "mimetype": "text/x-python",
   "name": "python",
   "nbconvert_exporter": "python",
   "pygments_lexer": "ipython3",
   "version": "3.7.1"
  }
 },
 "nbformat": 4,
 "nbformat_minor": 2
}
