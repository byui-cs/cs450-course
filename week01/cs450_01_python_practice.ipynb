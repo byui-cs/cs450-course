{
  "nbformat": 4,
  "nbformat_minor": 0,
  "metadata": {
    "kernelspec": {
      "display_name": "Python 3",
      "language": "python",
      "name": "python3"
    },
    "language_info": {
      "codemirror_mode": {
        "name": "ipython",
        "version": 3
      },
      "file_extension": ".py",
      "mimetype": "text/x-python",
      "name": "python",
      "nbconvert_exporter": "python",
      "pygments_lexer": "ipython3",
      "version": "3.7.1"
    },
    "colab": {
      "name": "cs450_01_python_practice.ipynb",
      "provenance": [],
      "toc_visible": true
    }
  },
  "cells": [
    {
      "cell_type": "markdown",
      "metadata": {
        "id": "VncYBozmpDFY",
        "colab_type": "text"
      },
      "source": [
        "# CSE 450 - Teach 01\n",
        "This activity is designed to be completed in teams during class time.\n",
        "\n",
        "In this activity you'll be practicing elements of Python that will be useful in your programming this semester.\n",
        "\n",
        "You've been hired by ACE Ice Cream Inc. to study their sales data. They suspect that ice cream sales are positively correlated with the temperature, meaning that when the temperature increases, so do ice cream sales. They would like to quantify this.\n",
        "\n"
      ]
    },
    {
      "cell_type": "markdown",
      "metadata": {
        "id": "uTQqtrEqltYV",
        "colab_type": "text"
      },
      "source": [
        "## Part I: Build the Class"
      ]
    },
    {
      "cell_type": "markdown",
      "metadata": {
        "id": "E2xkUxeWpBiA",
        "colab_type": "text"
      },
      "source": [
        ""
      ]
    },
    {
      "cell_type": "markdown",
      "metadata": {
        "id": "BuuePX4qltYX",
        "colab_type": "text"
      },
      "source": [
        "1: First, create a python class called `SimpleCorrelator` that has the following methods:\n",
        "\n",
        "* A constructor that takes two arguments, `x` and `y` and stores them as member variables.\n",
        "* A method called `x` which will return the x data.\n",
        "* A method called `y` which will return the y data.\n"
      ]
    },
    {
      "cell_type": "code",
      "metadata": {
        "id": "UUwr3EUfltYY",
        "colab_type": "code",
        "colab": {}
      },
      "source": [
        "\n"
      ],
      "execution_count": 0,
      "outputs": []
    },
    {
      "cell_type": "markdown",
      "metadata": {
        "id": "cIlfvPv1ltYd",
        "colab_type": "text"
      },
      "source": [
        "2: Create numpy arrays containing `sales` and `temperature` data:"
      ]
    },
    {
      "cell_type": "code",
      "metadata": {
        "id": "oGhIvHGeltYe",
        "colab_type": "code",
        "colab": {}
      },
      "source": [
        ""
      ],
      "execution_count": 0,
      "outputs": []
    },
    {
      "cell_type": "markdown",
      "metadata": {
        "id": "xACyVDD5ltYi",
        "colab_type": "text"
      },
      "source": [
        "3: Create an instance of your `SimpleCorrelator` class, passing in your `sales` and `temps` data as `x` and `y`, respectively."
      ]
    },
    {
      "cell_type": "code",
      "metadata": {
        "id": "1c-gzvczltYj",
        "colab_type": "code",
        "colab": {}
      },
      "source": [
        ""
      ],
      "execution_count": 0,
      "outputs": []
    },
    {
      "cell_type": "markdown",
      "metadata": {
        "id": "ug8q4mB9ltYs",
        "colab_type": "text"
      },
      "source": [
        "## Part 2 - CREATE SOME STATISTICAL FUNCTIONS"
      ]
    },
    {
      "cell_type": "markdown",
      "metadata": {
        "id": "kRoqhvvBltYs",
        "colab_type": "text"
      },
      "source": [
        "1: Add a `data_summary` method to your `SimpleCorrelator` class that will calculate and return a string containing the size, mean, median, mode, variance, and standard deviation of both the x and y datasets. \n",
        "\n",
        "You should use `numpy` methods to calculate these statistics.\n",
        "\n",
        "Print out the results of the `data_summary` method to make sure it works as expected."
      ]
    },
    {
      "cell_type": "code",
      "metadata": {
        "id": "I5uYsWMiltYs",
        "colab_type": "code",
        "colab": {}
      },
      "source": [
        ""
      ],
      "execution_count": 0,
      "outputs": []
    },
    {
      "cell_type": "markdown",
      "metadata": {
        "id": "BIzA8JVVltYu",
        "colab_type": "text"
      },
      "source": [
        "2: Override the `__repr__` method of your class so that when you print your class instance, it will print the results of your data_summary method."
      ]
    },
    {
      "cell_type": "code",
      "metadata": {
        "id": "HTHAJ8ZeltYu",
        "colab_type": "code",
        "colab": {}
      },
      "source": [
        ""
      ],
      "execution_count": 0,
      "outputs": []
    },
    {
      "cell_type": "markdown",
      "metadata": {
        "id": "bc0ERJtOltY0",
        "colab_type": "text"
      },
      "source": [
        "## Part 3 - CALCULATE THE CORRELATION COEFFICIENT"
      ]
    },
    {
      "cell_type": "markdown",
      "metadata": {
        "id": "d1D64PrCltY0",
        "colab_type": "text"
      },
      "source": [
        "1: Add a method called `correlation` to your class that returns the correlation coefficient as a single value.\n",
        "\n",
        "Note that there are several ways you could get this value. You could calculate it manually using the formulas provided above, or you could use a numpy method to do so.\n",
        "\n",
        "However, many numpy methods will return a matrix of values. You will need to make sure that your method returns a scalar (single value) which represents the correlation between X and Y.",
        "\n",
        "If everything worked correctly, the answer you get should be approximately `0.8`."
      ]
    },
    {
      "cell_type": "code",
      "metadata": {
        "id": "dPMpfuNkltY0",
        "colab_type": "code",
        "colab": {}
      },
      "source": [
        ""
      ],
      "execution_count": 0,
      "outputs": []
    }
  ]
}