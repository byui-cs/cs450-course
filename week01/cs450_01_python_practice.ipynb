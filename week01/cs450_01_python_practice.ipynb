{
 "cells": [
  {
   "cell_type": "markdown",
   "metadata": {},
   "source": [
    "## Part 1 - Classes"
   ]
  },
  {
   "cell_type": "markdown",
   "metadata": {},
   "source": [
    "1. Create a class to represent a Movie. It should have a title, a year, and a runtime (in minutes)"
   ]
  },
  {
   "cell_type": "code",
   "execution_count": null,
   "metadata": {},
   "outputs": [],
   "source": [
    "\n"
   ]
  },
  {
   "cell_type": "markdown",
   "metadata": {},
   "source": [
    "2. Create a movie object and fill it in with appropriate data"
   ]
  },
  {
   "cell_type": "code",
   "execution_count": null,
   "metadata": {},
   "outputs": [],
   "source": []
  },
  {
   "cell_type": "markdown",
   "metadata": {},
   "source": [
    "3. Override the `__repr__` method for your class to return a string version of the object in the format: \"title (year) - runtime mins\", such as: Jurassic World (2015) - 124 mins. Then, print out your movie using a statment like print(m)"
   ]
  },
  {
   "cell_type": "code",
   "execution_count": null,
   "metadata": {},
   "outputs": [],
   "source": []
  },
  {
   "cell_type": "markdown",
   "metadata": {},
   "source": [
    "4. Add a method to your class to return the runtime in hours and minutes (it should calculate and return both of these... yes functions can return multiple things). Verify that this method works."
   ]
  },
  {
   "cell_type": "code",
   "execution_count": null,
   "metadata": {},
   "outputs": [],
   "source": [
    "\n"
   ]
  },
  {
   "cell_type": "markdown",
   "metadata": {},
   "source": [
    "5. Make it so that your init function (aka constructor) can accept a title, year, and runtime if they are passed when the object is created, and set the values accordingly (but it should also allow creation of a movie with out those, using default values like \"\", 0, 0)."
   ]
  },
  {
   "cell_type": "code",
   "execution_count": null,
   "metadata": {},
   "outputs": [],
   "source": [
    "\n"
   ]
  },
  {
   "cell_type": "markdown",
   "metadata": {},
   "source": [
    "6. Add logic to your init function so that if the supplied runtime is less than 0, the runtime is set to 0 instead of the value supplied."
   ]
  },
  {
   "cell_type": "code",
   "execution_count": null,
   "metadata": {},
   "outputs": [],
   "source": [
    "\n"
   ]
  },
  {
   "cell_type": "markdown",
   "metadata": {},
   "source": [
    "## Part 2 - Lists, List Comprehensions, Dictionaries"
   ]
  },
  {
   "cell_type": "markdown",
   "metadata": {},
   "source": [
    "1. Create a function called create_movie_list() that returns a list of movies. It should create 4-5 movies, add them to a list, then return the list.\n",
    "\n"
   ]
  },
  {
   "cell_type": "code",
   "execution_count": null,
   "metadata": {},
   "outputs": [],
   "source": []
  },
  {
   "cell_type": "markdown",
   "metadata": {},
   "source": [
    "2. Call the create_movie_list() function, then iterates through each item in the list and displays it.\n"
   ]
  },
  {
   "cell_type": "code",
   "execution_count": null,
   "metadata": {},
   "outputs": [],
   "source": []
  },
  {
   "cell_type": "markdown",
   "metadata": {},
   "source": [
    "3. Use a list comprehension to create a new list based on your original list, for all movies that have a runtime greater than 150 minutes. Loop through this list and print them out to ensure that it worked correctly.\n"
   ]
  },
  {
   "cell_type": "code",
   "execution_count": null,
   "metadata": {},
   "outputs": [],
   "source": []
  },
  {
   "cell_type": "markdown",
   "metadata": {},
   "source": [
    "4. Create a dictionary that maps movie titles to an average number of stars from the users (e.g., 4.3 stars). Add each movie title in your list to your dictionary as the key, then use a library to get a random number, and assign each movie a number of stars (0 <= stars <= 5) (including decimals).\n",
    "\n"
   ]
  },
  {
   "cell_type": "code",
   "execution_count": null,
   "metadata": {},
   "outputs": [],
   "source": []
  },
  {
   "cell_type": "markdown",
   "metadata": {},
   "source": [
    "5. Loop through the dictionary and display the title of each movie with the number of stars it has received, showing the number of stars to 2 decimals of precision."
   ]
  },
  {
   "cell_type": "code",
   "execution_count": null,
   "metadata": {},
   "outputs": [],
   "source": [
    "\n"
   ]
  },
  {
   "cell_type": "markdown",
   "metadata": {},
   "source": [
    "## Part 3 - NumPy"
   ]
  },
  {
   "cell_type": "markdown",
   "metadata": {},
   "source": [
    "1. Assume now that we had a dataset that had three columns (all numeric): id, views, stars. Create a function that creates and returns a 2D numpy array with or random values for 10 movies and these 3 columns.\n",
    "\n",
    "You can use the following function for this:"
   ]
  },
  {
   "cell_type": "code",
   "execution_count": null,
   "metadata": {},
   "outputs": [],
   "source": [
    "import numpy as np\n",
    "\n",
    "def get_movie_data():\n",
    "    \"\"\"\n",
    "    Generate a numpy array of movie data\n",
    "    :return:\n",
    "    \"\"\"\n",
    "    num_movies = 10\n",
    "    array = np.zeros([num_movies, 3], dtype=np.float)\n",
    "\n",
    "    for i in range(num_movies):\n",
    "        # There is nothing magic about 100 here, just didn't want ids\n",
    "        # to match the row numbers\n",
    "        movie_id = i + 100\n",
    "\n",
    "        # Lets have the views range from 100-10000\n",
    "        views = random.randint(100, 10000)\n",
    "        stars = random.uniform(0, 5)\n",
    "\n",
    "        array[i][0] = movie_id\n",
    "        array[i][1] = views\n",
    "        array[i][2] = stars\n",
    "\n",
    "    return array\n"
   ]
  },
  {
   "cell_type": "markdown",
   "metadata": {},
   "source": [
    "2. Call this function and get the 2D numpy array. Then, find a way to display the number of rows in this array. On another line, display the number of columns."
   ]
  },
  {
   "cell_type": "code",
   "execution_count": null,
   "metadata": {},
   "outputs": [],
   "source": []
  },
  {
   "cell_type": "code",
   "execution_count": null,
   "metadata": {},
   "outputs": [],
   "source": [
    "\n"
   ]
  },
  {
   "cell_type": "markdown",
   "metadata": {},
   "source": [
    "3. Use slicing to grab the first two rows, and display the resulting dataset."
   ]
  },
  {
   "cell_type": "code",
   "execution_count": null,
   "metadata": {},
   "outputs": [],
   "source": []
  },
  {
   "cell_type": "markdown",
   "metadata": {},
   "source": [
    "4. Use slicing to grab the last two columns, and display the resulting dataset."
   ]
  },
  {
   "cell_type": "code",
   "execution_count": null,
   "metadata": {},
   "outputs": [],
   "source": []
  },
  {
   "cell_type": "markdown",
   "metadata": {},
   "source": [
    "5. From your 2D array, get a 1D array of all the values in the second column (views). Make sure you get this to a 1D array, not a 2D array with one column. When you display it, it should look like: `[18, 65, 38, 12]` not like: `[[18], [65], [38], [12]]`"
   ]
  },
  {
   "cell_type": "code",
   "execution_count": null,
   "metadata": {},
   "outputs": [],
   "source": []
  },
  {
   "cell_type": "code",
   "execution_count": null,
   "metadata": {},
   "outputs": [],
   "source": []
  }
 ],
 "metadata": {
  "kernelspec": {
   "display_name": "Python 3",
   "language": "python",
   "name": "python3"
  },
  "language_info": {
   "codemirror_mode": {
    "name": "ipython",
    "version": 3
   },
   "file_extension": ".py",
   "mimetype": "text/x-python",
   "name": "python",
   "nbconvert_exporter": "python",
   "pygments_lexer": "ipython3",
   "version": "3.7.1"
  }
 },
 "nbformat": 4,
 "nbformat_minor": 2
}
